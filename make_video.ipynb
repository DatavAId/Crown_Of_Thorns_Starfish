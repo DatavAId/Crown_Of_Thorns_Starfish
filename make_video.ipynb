{
 "cells": [
  {
   "cell_type": "code",
   "execution_count": 1,
   "metadata": {},
   "outputs": [],
   "source": [
    "import cv2\n",
    "import os\n",
    "from tqdm import tqdm\n",
    "import pandas as pd\n",
    "import matplotlib.pyplot as plt"
   ]
  },
  {
   "cell_type": "code",
   "execution_count": 2,
   "metadata": {},
   "outputs": [],
   "source": [
    "home = os.getcwd()"
   ]
  },
  {
   "cell_type": "code",
   "execution_count": 3,
   "metadata": {},
   "outputs": [],
   "source": [
    "df = pd.read_csv('./tensorflow-great-barrier-reef/train.csv')"
   ]
  },
  {
   "cell_type": "code",
   "execution_count": 4,
   "metadata": {},
   "outputs": [
    {
     "data": {
      "text/html": [
       "<div>\n",
       "<style scoped>\n",
       "    .dataframe tbody tr th:only-of-type {\n",
       "        vertical-align: middle;\n",
       "    }\n",
       "\n",
       "    .dataframe tbody tr th {\n",
       "        vertical-align: top;\n",
       "    }\n",
       "\n",
       "    .dataframe thead th {\n",
       "        text-align: right;\n",
       "    }\n",
       "</style>\n",
       "<table border=\"1\" class=\"dataframe\">\n",
       "  <thead>\n",
       "    <tr style=\"text-align: right;\">\n",
       "      <th></th>\n",
       "      <th>video_id</th>\n",
       "      <th>sequence</th>\n",
       "      <th>video_frame</th>\n",
       "      <th>sequence_frame</th>\n",
       "      <th>image_id</th>\n",
       "      <th>annotations</th>\n",
       "    </tr>\n",
       "  </thead>\n",
       "  <tbody>\n",
       "    <tr>\n",
       "      <th>19265</th>\n",
       "      <td>2</td>\n",
       "      <td>22643</td>\n",
       "      <td>5363</td>\n",
       "      <td>0</td>\n",
       "      <td>2-5363</td>\n",
       "      <td>[{'x': 701, 'y': 133, 'width': 49, 'height': 3...</td>\n",
       "    </tr>\n",
       "    <tr>\n",
       "      <th>19266</th>\n",
       "      <td>2</td>\n",
       "      <td>22643</td>\n",
       "      <td>5364</td>\n",
       "      <td>1</td>\n",
       "      <td>2-5364</td>\n",
       "      <td>[{'x': 701, 'y': 152, 'width': 40, 'height': 4...</td>\n",
       "    </tr>\n",
       "    <tr>\n",
       "      <th>19267</th>\n",
       "      <td>2</td>\n",
       "      <td>22643</td>\n",
       "      <td>5365</td>\n",
       "      <td>2</td>\n",
       "      <td>2-5365</td>\n",
       "      <td>[{'x': 693, 'y': 182, 'width': 40, 'height': 4...</td>\n",
       "    </tr>\n",
       "    <tr>\n",
       "      <th>19268</th>\n",
       "      <td>2</td>\n",
       "      <td>22643</td>\n",
       "      <td>5366</td>\n",
       "      <td>3</td>\n",
       "      <td>2-5366</td>\n",
       "      <td>[{'x': 684, 'y': 212, 'width': 40, 'height': 4...</td>\n",
       "    </tr>\n",
       "    <tr>\n",
       "      <th>19269</th>\n",
       "      <td>2</td>\n",
       "      <td>22643</td>\n",
       "      <td>5367</td>\n",
       "      <td>4</td>\n",
       "      <td>2-5367</td>\n",
       "      <td>[{'x': 678, 'y': 248, 'width': 40, 'height': 4...</td>\n",
       "    </tr>\n",
       "    <tr>\n",
       "      <th>...</th>\n",
       "      <td>...</td>\n",
       "      <td>...</td>\n",
       "      <td>...</td>\n",
       "      <td>...</td>\n",
       "      <td>...</td>\n",
       "      <td>...</td>\n",
       "    </tr>\n",
       "    <tr>\n",
       "      <th>20508</th>\n",
       "      <td>2</td>\n",
       "      <td>22643</td>\n",
       "      <td>6606</td>\n",
       "      <td>1243</td>\n",
       "      <td>2-6606</td>\n",
       "      <td>[]</td>\n",
       "    </tr>\n",
       "    <tr>\n",
       "      <th>20509</th>\n",
       "      <td>2</td>\n",
       "      <td>22643</td>\n",
       "      <td>6607</td>\n",
       "      <td>1244</td>\n",
       "      <td>2-6607</td>\n",
       "      <td>[]</td>\n",
       "    </tr>\n",
       "    <tr>\n",
       "      <th>20510</th>\n",
       "      <td>2</td>\n",
       "      <td>22643</td>\n",
       "      <td>6608</td>\n",
       "      <td>1245</td>\n",
       "      <td>2-6608</td>\n",
       "      <td>[]</td>\n",
       "    </tr>\n",
       "    <tr>\n",
       "      <th>20511</th>\n",
       "      <td>2</td>\n",
       "      <td>22643</td>\n",
       "      <td>6609</td>\n",
       "      <td>1246</td>\n",
       "      <td>2-6609</td>\n",
       "      <td>[]</td>\n",
       "    </tr>\n",
       "    <tr>\n",
       "      <th>20512</th>\n",
       "      <td>2</td>\n",
       "      <td>22643</td>\n",
       "      <td>6610</td>\n",
       "      <td>1247</td>\n",
       "      <td>2-6610</td>\n",
       "      <td>[]</td>\n",
       "    </tr>\n",
       "  </tbody>\n",
       "</table>\n",
       "<p>1248 rows × 6 columns</p>\n",
       "</div>"
      ],
      "text/plain": [
       "       video_id  sequence  video_frame  sequence_frame image_id  \\\n",
       "19265         2     22643         5363               0   2-5363   \n",
       "19266         2     22643         5364               1   2-5364   \n",
       "19267         2     22643         5365               2   2-5365   \n",
       "19268         2     22643         5366               3   2-5366   \n",
       "19269         2     22643         5367               4   2-5367   \n",
       "...         ...       ...          ...             ...      ...   \n",
       "20508         2     22643         6606            1243   2-6606   \n",
       "20509         2     22643         6607            1244   2-6607   \n",
       "20510         2     22643         6608            1245   2-6608   \n",
       "20511         2     22643         6609            1246   2-6609   \n",
       "20512         2     22643         6610            1247   2-6610   \n",
       "\n",
       "                                             annotations  \n",
       "19265  [{'x': 701, 'y': 133, 'width': 49, 'height': 3...  \n",
       "19266  [{'x': 701, 'y': 152, 'width': 40, 'height': 4...  \n",
       "19267  [{'x': 693, 'y': 182, 'width': 40, 'height': 4...  \n",
       "19268  [{'x': 684, 'y': 212, 'width': 40, 'height': 4...  \n",
       "19269  [{'x': 678, 'y': 248, 'width': 40, 'height': 4...  \n",
       "...                                                  ...  \n",
       "20508                                                 []  \n",
       "20509                                                 []  \n",
       "20510                                                 []  \n",
       "20511                                                 []  \n",
       "20512                                                 []  \n",
       "\n",
       "[1248 rows x 6 columns]"
      ]
     },
     "execution_count": 4,
     "metadata": {},
     "output_type": "execute_result"
    }
   ],
   "source": [
    "df[df['sequence'] == 22643]"
   ]
  },
  {
   "cell_type": "code",
   "execution_count": 4,
   "metadata": {},
   "outputs": [],
   "source": [
    "def crear_y_mover_carpeta():\n",
    "    carpeta = 'videos'\n",
    "    if not os.path.exists(carpeta):\n",
    "        os.makedirs(carpeta)\n",
    "        print(f'The folder has been created {carpeta}')\n",
    "        \n",
    "    os.chdir(carpeta)\n",
    "    print(f'Now we are chainging {carpeta}')\n",
    "    print(f'Current directory {os.getcwd()}')"
   ]
  },
  {
   "cell_type": "code",
   "execution_count": 5,
   "metadata": {},
   "outputs": [],
   "source": [
    "def make_video(data, video_id, seq_id, home):      \n",
    "    \n",
    "    df_part = data.query(f'video_id == {video_id}').query(f'sequence == {seq_id}')\n",
    "    imgp = '/runs/detect/predict4/'\n",
    "    df_part['image_path'] = home + imgp + df_part['sequence_frame'].astype(str) + '.jpg'\n",
    "    \n",
    "    crear_y_mover_carpeta()\n",
    "    \n",
    "    fps = 10 \n",
    "    width = 1280\n",
    "    height = 720\n",
    "    save_path = f'video_{video_id}_{seq_id}.avi'\n",
    "    #tmp_path = f'tmp_video_{video_id}_{seq_id}.avi'    \n",
    "        \n",
    "    output_video = cv2.VideoWriter(save_path, cv2.VideoWriter_fourcc(*\"DIVX\"), fps, (width, height))\n",
    "\n",
    "    for _, row in tqdm(df_part.iterrows(), total=len(df_part)):\n",
    "        img = cv2.imread(row.image_path)\n",
    "        output_video.write(img)\n",
    "        \n",
    "    output_video.release()\n",
    "    \n",
    "    os.chdir(home)\n",
    "    \n",
    "    print(os.getcwd())"
   ]
  },
  {
   "cell_type": "code",
   "execution_count": 6,
   "metadata": {},
   "outputs": [
    {
     "name": "stdout",
     "output_type": "stream",
     "text": [
      "The folder has been created videos\n",
      "Now we are chainging videos\n",
      "Current directory /home/el_rancio_dave/Documents/IA/YOLO/videos\n"
     ]
    },
    {
     "name": "stderr",
     "output_type": "stream",
     "text": [
      "  1%|          | 5/480 [00:00<00:09, 48.07it/s]"
     ]
    },
    {
     "name": "stderr",
     "output_type": "stream",
     "text": [
      "100%|██████████| 480/480 [00:08<00:00, 54.22it/s]"
     ]
    },
    {
     "name": "stdout",
     "output_type": "stream",
     "text": [
      "/home/el_rancio_dave/Documents/IA/YOLO\n"
     ]
    },
    {
     "name": "stderr",
     "output_type": "stream",
     "text": [
      "\n"
     ]
    }
   ],
   "source": [
    "make_video(data = df, video_id = 0, seq_id = 40258, home = home)"
   ]
  },
  {
   "cell_type": "code",
   "execution_count": 6,
   "metadata": {},
   "outputs": [
    {
     "name": "stdout",
     "output_type": "stream",
     "text": [
      "Now we are chainging videos\n",
      "Current directory /home/el_rancio_dave/Documents/IA/YOLO/videos\n"
     ]
    },
    {
     "name": "stderr",
     "output_type": "stream",
     "text": [
      "  0%|          | 0/1248 [00:00<?, ?it/s]"
     ]
    },
    {
     "name": "stderr",
     "output_type": "stream",
     "text": [
      "100%|██████████| 1248/1248 [00:23<00:00, 52.57it/s]"
     ]
    },
    {
     "name": "stdout",
     "output_type": "stream",
     "text": [
      "/home/el_rancio_dave/Documents/IA/YOLO\n"
     ]
    },
    {
     "name": "stderr",
     "output_type": "stream",
     "text": [
      "\n"
     ]
    }
   ],
   "source": [
    "make_video(data = df, video_id = 2, seq_id = 22643, home = home)"
   ]
  }
 ],
 "metadata": {
  "kernelspec": {
   "display_name": "DETR",
   "language": "python",
   "name": "python3"
  },
  "language_info": {
   "codemirror_mode": {
    "name": "ipython",
    "version": 3
   },
   "file_extension": ".py",
   "mimetype": "text/x-python",
   "name": "python",
   "nbconvert_exporter": "python",
   "pygments_lexer": "ipython3",
   "version": "3.11.4"
  }
 },
 "nbformat": 4,
 "nbformat_minor": 2
}
